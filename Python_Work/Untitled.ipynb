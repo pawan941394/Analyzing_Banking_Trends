{
 "cells": [
  {
   "cell_type": "code",
   "execution_count": 1,
   "id": "1f75b939",
   "metadata": {},
   "outputs": [],
   "source": [
    "import pandas as pd"
   ]
  },
  {
   "cell_type": "markdown",
   "id": "e619d5da",
   "metadata": {},
   "source": [
    "# Creating Some Common Functions"
   ]
  },
  {
   "cell_type": "markdown",
   "id": "29647f23",
   "metadata": {},
   "source": [
    "# 1. Function to check for null (missing) values in the DataFrame"
   ]
  },
  {
   "cell_type": "code",
   "execution_count": 2,
   "id": "f86e0eb3",
   "metadata": {},
   "outputs": [],
   "source": [
    "def check_null(df):\n",
    "    data = df\n",
    "    null_values =  df.isna().sum()\n",
    "    return null_values"
   ]
  },
  {
   "cell_type": "markdown",
   "id": "768d22f2",
   "metadata": {},
   "source": [
    "# 2. Function to check for duplicate values in the DataFrame"
   ]
  },
  {
   "cell_type": "code",
   "execution_count": 3,
   "id": "0c4b7e39",
   "metadata": {},
   "outputs": [],
   "source": [
    "def check_dup(df):\n",
    "    data = df\n",
    "    dup =  len(df[df.duplicated()])\n",
    "    return dup"
   ]
  },
  {
   "cell_type": "markdown",
   "id": "caeb441d",
   "metadata": {},
   "source": [
    "# 3. Function to drop duplicate values in the DataFrame"
   ]
  },
  {
   "cell_type": "code",
   "execution_count": 4,
   "id": "7fb374a9",
   "metadata": {},
   "outputs": [],
   "source": [
    "def drop_dup(df):\n",
    "    df.drop_duplicates(inplace=True)\n",
    "    \n",
    "    return df"
   ]
  },
  {
   "cell_type": "markdown",
   "id": "9c805499",
   "metadata": {},
   "source": [
    "# Cleaning Data \n",
    "\n",
    "\n",
    "1. Cleaning user_nodes \n",
    "    \n",
    "    Checking null Values"
   ]
  },
  {
   "cell_type": "code",
   "execution_count": 24,
   "id": "5faa7fa2",
   "metadata": {},
   "outputs": [
    {
     "data": {
      "text/plain": [
       "id_           0\n",
       "area_id_      0\n",
       "node_id_      0\n",
       "act_date      0\n",
       "deact_date    0\n",
       "has_loan      0\n",
       "is_act        0\n",
       "dtype: int64"
      ]
     },
     "execution_count": 24,
     "metadata": {},
     "output_type": "execute_result"
    }
   ],
   "source": [
    "df =  pd.read_csv('row_data/user_nodes.csv')\n",
    "null = check_null(df)\n",
    "null\n"
   ]
  },
  {
   "cell_type": "markdown",
   "id": "f32b9ee3",
   "metadata": {},
   "source": [
    "Here is no null values so we didn't need to do operations on values"
   ]
  },
  {
   "cell_type": "markdown",
   "id": "06977d8a",
   "metadata": {},
   "source": [
    "Checking Duplicate Values"
   ]
  },
  {
   "cell_type": "code",
   "execution_count": 6,
   "id": "18693373",
   "metadata": {},
   "outputs": [
    {
     "data": {
      "text/plain": [
       "143"
      ]
     },
     "execution_count": 6,
     "metadata": {},
     "output_type": "execute_result"
    }
   ],
   "source": [
    "dup =  check_dup(df)\n",
    "dup"
   ]
  },
  {
   "cell_type": "markdown",
   "id": "43e48f5d",
   "metadata": {},
   "source": [
    "here is 143 duplicate values so remove these values "
   ]
  },
  {
   "cell_type": "code",
   "execution_count": 7,
   "id": "53729cdc",
   "metadata": {},
   "outputs": [],
   "source": [
    "df =  drop_dup(df)\n"
   ]
  },
  {
   "cell_type": "code",
   "execution_count": 8,
   "id": "38b2f111",
   "metadata": {},
   "outputs": [
    {
     "data": {
      "text/plain": [
       "0"
      ]
     },
     "execution_count": 8,
     "metadata": {},
     "output_type": "execute_result"
    }
   ],
   "source": [
    "dup =  check_dup(df)\n",
    "dup"
   ]
  },
  {
   "cell_type": "markdown",
   "id": "1e123e68",
   "metadata": {},
   "source": [
    "Successfully removed duplicated values"
   ]
  },
  {
   "cell_type": "markdown",
   "id": "c4cc997f",
   "metadata": {},
   "source": [
    "performing other operations "
   ]
  },
  {
   "cell_type": "code",
   "execution_count": 9,
   "id": "260344b2",
   "metadata": {},
   "outputs": [
    {
     "data": {
      "text/plain": [
       "Index(['id_', 'area_id_', 'node_id_', 'act_date', 'deact_date', 'has_loan',\n",
       "       'is_act'],\n",
       "      dtype='object')"
      ]
     },
     "execution_count": 9,
     "metadata": {},
     "output_type": "execute_result"
    }
   ],
   "source": [
    "df.columns"
   ]
  },
  {
   "cell_type": "markdown",
   "id": "ca4b7c4d",
   "metadata": {},
   "source": [
    "renaming columns names for make relationship with other tables"
   ]
  },
  {
   "cell_type": "code",
   "execution_count": 25,
   "id": "26c9a77a",
   "metadata": {},
   "outputs": [],
   "source": [
    "df.rename(columns = {'id_':'consumer_id','area_id_':'region_id'},  inplace=True)"
   ]
  },
  {
   "cell_type": "code",
   "execution_count": 26,
   "id": "02aadd6d",
   "metadata": {},
   "outputs": [
    {
     "data": {
      "text/plain": [
       "Index(['consumer_id', 'region_id', 'node_id_', 'act_date', 'deact_date',\n",
       "       'has_loan', 'is_act'],\n",
       "      dtype='object')"
      ]
     },
     "execution_count": 26,
     "metadata": {},
     "output_type": "execute_result"
    }
   ],
   "source": [
    "df.columns"
   ]
  },
  {
   "cell_type": "markdown",
   "id": "5c6cdf99",
   "metadata": {},
   "source": [
    "Deleting columns which is not required "
   ]
  },
  {
   "cell_type": "code",
   "execution_count": 12,
   "id": "30f043ee",
   "metadata": {},
   "outputs": [],
   "source": [
    "del df['has_loan']\n"
   ]
  },
  {
   "cell_type": "markdown",
   "id": "149202f3",
   "metadata": {},
   "source": [
    "Save the cleaned data for SQL "
   ]
  },
  {
   "cell_type": "code",
   "execution_count": 13,
   "id": "417e258f",
   "metadata": {},
   "outputs": [],
   "source": [
    "df.to_csv('cleaned DataBase/user_nodes_cleaned.csv',index=False)"
   ]
  },
  {
   "cell_type": "markdown",
   "id": "90d2f86f",
   "metadata": {},
   "source": [
    "# Working on another file\n"
   ]
  },
  {
   "cell_type": "code",
   "execution_count": 14,
   "id": "b99db53a",
   "metadata": {},
   "outputs": [
    {
     "data": {
      "text/plain": [
       "id_                0\n",
       "t_date             0\n",
       "t_type             0\n",
       "t_amt              0\n",
       "has_credit_card    0\n",
       "account_type       0\n",
       "dtype: int64"
      ]
     },
     "execution_count": 14,
     "metadata": {},
     "output_type": "execute_result"
    }
   ],
   "source": [
    "df =  pd.read_csv('row_data/user_transactions.csv')\n",
    "null = check_null(df)\n",
    "null\n"
   ]
  },
  {
   "cell_type": "markdown",
   "id": "774befed",
   "metadata": {},
   "source": [
    "Here is no null values so we didn't need to do operations on values\n",
    "\n",
    "Checking Duplicate Values"
   ]
  },
  {
   "cell_type": "code",
   "execution_count": 15,
   "id": "4a4711b3",
   "metadata": {},
   "outputs": [
    {
     "data": {
      "text/plain": [
       "79"
      ]
     },
     "execution_count": 15,
     "metadata": {},
     "output_type": "execute_result"
    }
   ],
   "source": [
    "dup =  check_dup(df)\n",
    "dup"
   ]
  },
  {
   "cell_type": "markdown",
   "id": "2b4acf94",
   "metadata": {},
   "source": [
    "here is 79 duplicate values so remove these values"
   ]
  },
  {
   "cell_type": "code",
   "execution_count": 16,
   "id": "c34ed5ba",
   "metadata": {},
   "outputs": [],
   "source": [
    "df =  drop_dup(df)\n"
   ]
  },
  {
   "cell_type": "code",
   "execution_count": 17,
   "id": "c49364fc",
   "metadata": {},
   "outputs": [
    {
     "data": {
      "text/plain": [
       "0"
      ]
     },
     "execution_count": 17,
     "metadata": {},
     "output_type": "execute_result"
    }
   ],
   "source": [
    "dup =  check_dup(df)\n",
    "dup"
   ]
  },
  {
   "cell_type": "markdown",
   "id": "263d5a80",
   "metadata": {},
   "source": [
    "Successfully removed duplicated values\n",
    "\n",
    "performing other operations\n"
   ]
  },
  {
   "cell_type": "code",
   "execution_count": 18,
   "id": "4d0133b7",
   "metadata": {},
   "outputs": [
    {
     "data": {
      "text/plain": [
       "Index(['id_', 't_date', 't_type', 't_amt', 'has_credit_card', 'account_type'], dtype='object')"
      ]
     },
     "execution_count": 18,
     "metadata": {},
     "output_type": "execute_result"
    }
   ],
   "source": [
    "df.columns"
   ]
  },
  {
   "cell_type": "markdown",
   "id": "9c4f65a2",
   "metadata": {},
   "source": [
    "\n",
    "renaming columns names for make relationship with other tables\n",
    "\n"
   ]
  },
  {
   "cell_type": "code",
   "execution_count": 19,
   "id": "c059eae3",
   "metadata": {},
   "outputs": [],
   "source": [
    "df.rename(columns = {'id_':'consumer_id','t_date':'transaction_date','t_type':'transaction_type','t_amt':'transaction_amount'},  inplace=True)\n"
   ]
  },
  {
   "cell_type": "code",
   "execution_count": 20,
   "id": "c0fbe280",
   "metadata": {},
   "outputs": [],
   "source": [
    "df.to_csv('cleaned DataBase/user_transaction_cleaned.csv', index=False)"
   ]
  },
  {
   "cell_type": "markdown",
   "id": "8517ff08",
   "metadata": {},
   "source": [
    "# Working on another file"
   ]
  },
  {
   "cell_type": "code",
   "execution_count": 21,
   "id": "8595cfe5",
   "metadata": {},
   "outputs": [
    {
     "data": {
      "text/plain": [
       "region_id      0\n",
       "region_name    0\n",
       "dtype: int64"
      ]
     },
     "execution_count": 21,
     "metadata": {},
     "output_type": "execute_result"
    }
   ],
   "source": [
    "df =  pd.read_csv('row_data/world_regions.csv')\n",
    "null = check_null(df)\n",
    "null"
   ]
  },
  {
   "cell_type": "markdown",
   "id": "45dfecf8",
   "metadata": {},
   "source": [
    "Here is no null values so we didn't need to do operations on values\n",
    "\n",
    "Checking Duplicate Values"
   ]
  },
  {
   "cell_type": "code",
   "execution_count": 22,
   "id": "03679a89",
   "metadata": {},
   "outputs": [
    {
     "data": {
      "text/plain": [
       "0"
      ]
     },
     "execution_count": 22,
     "metadata": {},
     "output_type": "execute_result"
    }
   ],
   "source": [
    "dup =  check_dup(df)\n",
    "dup"
   ]
  },
  {
   "cell_type": "markdown",
   "id": "3b658363",
   "metadata": {},
   "source": [
    "here is no duplicate values "
   ]
  },
  {
   "cell_type": "code",
   "execution_count": 23,
   "id": "17000b21",
   "metadata": {},
   "outputs": [
    {
     "data": {
      "text/plain": [
       "Index(['region_id', 'region_name'], dtype='object')"
      ]
     },
     "execution_count": 23,
     "metadata": {},
     "output_type": "execute_result"
    }
   ],
   "source": [
    "df.columns"
   ]
  },
  {
   "cell_type": "markdown",
   "id": "ecb63442",
   "metadata": {},
   "source": [
    "Here is columns names are same as we need so ignore another operations"
   ]
  },
  {
   "cell_type": "code",
   "execution_count": null,
   "id": "87e251d4",
   "metadata": {},
   "outputs": [],
   "source": []
  }
 ],
 "metadata": {
  "kernelspec": {
   "display_name": "Python 3 (ipykernel)",
   "language": "python",
   "name": "python3"
  },
  "language_info": {
   "codemirror_mode": {
    "name": "ipython",
    "version": 3
   },
   "file_extension": ".py",
   "mimetype": "text/x-python",
   "name": "python",
   "nbconvert_exporter": "python",
   "pygments_lexer": "ipython3",
   "version": "3.11.4"
  }
 },
 "nbformat": 4,
 "nbformat_minor": 5
}
